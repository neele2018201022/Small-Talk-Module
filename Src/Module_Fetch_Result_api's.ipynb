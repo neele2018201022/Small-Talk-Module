{
 "cells": [
  {
   "cell_type": "markdown",
   "metadata": {},
   "source": [
    "# Loading Modules"
   ]
  },
  {
   "cell_type": "code",
   "execution_count": 38,
   "metadata": {},
   "outputs": [],
   "source": [
    "import requests, json\n",
    "from pprint import pprint \n",
    "import language_check\n",
    "import spacy\n",
    "import nltk\n",
    "from spacy import displacy\n",
    "from pprint import pprint\n",
    "from collections import Counter\n",
    "import en_core_web_sm\n",
    "from textblob import TextBlob \n",
    "nlp = en_core_web_sm.load()"
   ]
  },
  {
   "cell_type": "markdown",
   "metadata": {},
   "source": [
    "# API Fetching for News,Jokes and Weather"
   ]
  },
  {
   "cell_type": "code",
   "execution_count": 47,
   "metadata": {},
   "outputs": [],
   "source": [
    "def get_news(entity): \n",
    "    main_url = \" https://newsapi.org/v1/articles?source=bbc-news&sortBy=top&apiKey=e3fd21c34e0a4062b9480ddaa91707cb\"\n",
    "    flag1=False\n",
    "    flag2=False\n",
    "    for name in entity[\"org\"]:\n",
    "        if \"business\" in name:\n",
    "            flag1=True\n",
    "            print(\"Top 10 business news :\")\n",
    "            main_url=\"https://newsapi.org/v2/top-headlines?country=in&category=business&apiKey=e3fd21c34e0a4062b9480ddaa91707cb\"\n",
    "            break\n",
    "        if \"sports\" in name:\n",
    "            flag1=True\n",
    "            print(\"Top 10 sports news :\")\n",
    "            main_url=\"https://newsapi.org/v2/top-headlines?country=in&category=sports&apiKey=e3fd21c34e0a4062b9480ddaa91707cb\"\n",
    "            break\n",
    "    if flag1==False:\n",
    "        if(len(entity[\"person\"])):\n",
    "            flag2=True\n",
    "            main_url=\"https://newsapi.org/v2/everything?q=\"+entity[\"person\"][0]+\"&sortBy=publishedAt&apiKey=e3fd21c34e0a4062b9480ddaa91707cb\"\n",
    "#https://newsapi.org/v2/everything?q=bitcoin&from=2019-04-09&sortBy=publishedAt&apiKey=e3fd21c34e0a4062b9480ddaa91707cb\n",
    "\n",
    "#https://newsapi.org/v2/top-headlines?country=us&category=business&apiKey=API_KEY\n",
    "#https://newsapi.org/v2/top-headlines?sources=techcrunch&apiKey=API_KEY\n",
    "#https://newsapi.org/v2/everything?domains=wsj.com&apiKey=API_KEY\n",
    "\n",
    "    open_bbc_page = requests.get(main_url).json() \n",
    "    article = open_bbc_page[\"articles\"] \n",
    "    results = [] \n",
    "    for ar in article: \n",
    "                results.append(ar[\"title\"]) \n",
    "    counter=1      \n",
    "    for i in range(len(results)):\n",
    "        if(flag1):\n",
    "            print(i + 1, results[i])\n",
    "            counter+=1\n",
    "            if(counter==11):\n",
    "                    break\n",
    "        if(flag2):\n",
    "            if(entity[\"person\"][0].lower() in results[i].lower()):\n",
    "                    print(counter, results[i])\n",
    "                    counter+=1\n",
    "                    if(counter==11):\n",
    "                        break\n",
    "def get_jokes(entity):\n",
    "#     https://icanhazdadjoke.com/search?term=hipster\n",
    "    main_url='https://icanhazdadjoke.com'\n",
    "    flag1=False\n",
    "    flag2=False\n",
    "    if(len(entity[\"person\"])):\n",
    "            flag1=True\n",
    "            main_url=\"https://icanhazdadjoke.com/search?term=\"+entity[\"person\"][0]\n",
    "    r = requests.get(main_url, headers={\"Accept\":\"application/json\"})\n",
    "    raw_joke = r.json();\n",
    "    print(raw_joke['joke'])\n",
    "\n",
    "def get_weather(entity):\n",
    "        app_id = \"e884734dcec3248d3d1364baf22b5470\"\n",
    "        city_name=None\n",
    "        country_code=None\n",
    "        if(city_name is None):\n",
    "                city_name = \"delhi\"\n",
    "        if(country_code is None):        \n",
    "                country_code = 'IND'\n",
    "        complete_url = 'http://api.openweathermap.org/data/2.5/forecast?q=' + city_name + ',' + country_code + '&appid=' + app_id + '&mode=json&units=metric'\n",
    "        response = requests.get(complete_url)  \n",
    "        x = response.json() \n",
    "        if x[\"cod\"] != \"404\": \n",
    "            humidity = []\n",
    "            date = []\n",
    "            temp = []\n",
    "            desc = []\n",
    "            pressure = []\n",
    "            sea_level = []\n",
    "\n",
    "            data =x\n",
    "            print(\"\\t\" + \"Details about the forcast of the city \" + city_name + \" of next 5 days \" + \"\\n\\n\")\n",
    "            for lists in data['list']:\n",
    "                date.append(lists['dt_txt'])\n",
    "                temp.append(lists['main']['temp'])\n",
    "                desc.append(lists['weather'][0]['description'])\n",
    "\n",
    "            print('{:^25}{:^20}{:^20}'.format(\"Date\", \"Description\", \"Temprature\\n\"))\n",
    "            for i in range(len(date)):\n",
    "                print('{:^25}{:^20}{:^20}'.format(str(date[i]), desc[i], str(temp[i])+\" C\\N{DEGREE SIGN}\"))\n",
    "\n",
    "        else: \n",
    "            print(\" City Not Found \")     "
   ]
  },
  {
   "cell_type": "markdown",
   "metadata": {},
   "source": [
    "# Entity recognition Module"
   ]
  },
  {
   "cell_type": "code",
   "execution_count": 48,
   "metadata": {},
   "outputs": [],
   "source": [
    " def get_entity(sentence):\n",
    "    tool = language_check.LanguageTool('en-UK')\n",
    "    text = sentence\n",
    "    matches = tool.check(text)\n",
    "    sentence=language_check.correct(text, matches)\n",
    "    sentence=sentence.lower()\n",
    "    nouns = [] \n",
    "    for word,pos in nltk.pos_tag(nltk.word_tokenize(str(sentence))):\n",
    "             if ((pos == 'NN' or pos == 'NNP' or pos == 'NNS' or pos == 'NNPS' )and word!=\"joke\"):\n",
    "                    nouns.append(word)\n",
    "    split_sentence=sentence.split()\n",
    "    new_sentence=\"\"\n",
    "    for word in split_sentence:\n",
    "        if word in nouns:\n",
    "                new_sentence+=word.capitalize()\n",
    "        else:\n",
    "            new_sentence+=word\n",
    "        new_sentence+=\" \"    \n",
    "    doc=nlp(new_sentence)\n",
    "    entity={}\n",
    "    entity[\"person\"]=[]\n",
    "    entity[\"place\"]=[]\n",
    "    entity[\"date\"]=[]\n",
    "    entity[\"org\"]=[]\n",
    "    for X in doc.ents:\n",
    "#         print(X.label_,X.text)\n",
    "        if(X.label_=='PERSON'):\n",
    "            entity[\"person\"].append(X.text.lower())\n",
    "        elif(X.label_=='GPE'):\n",
    "            entity[\"place\"].append(X.text.lower())\n",
    "        elif(X.label_=='DATE'):\n",
    "            entity[\"date\"].append(X.text.lower())\n",
    "        elif(X.label_=='ORG'):\n",
    "            entity[\"org\"].append(X.text.lower())\n",
    "    return entity"
   ]
  },
  {
   "cell_type": "code",
   "execution_count": 49,
   "metadata": {},
   "outputs": [],
   "source": [
    "def model(text,op):\n",
    "    #model=build_model()\n",
    "    #op=model.predict(text)\n",
    "    if(op==\"news\"):\n",
    "            entity=get_entity(text)\n",
    "#             print(entity)\n",
    "            get_news(entity)\n",
    "    if(op==\"weather\"):\n",
    "            entity=get_entity(text)\n",
    "            get_weather(entity)\n",
    "    if(op==\"jokes\"):\n",
    "            entity=get_entity(text)\n",
    "#             print(entity)\n",
    "            get_jokes(entity)"
   ]
  },
  {
   "cell_type": "code",
   "execution_count": 51,
   "metadata": {},
   "outputs": [
    {
     "name": "stdout",
     "output_type": "stream",
     "text": [
      "nn\n",
      "The word queue is ironic. It's just q with a bunch of silent letters waiting in line.\n"
     ]
    }
   ],
   "source": [
    "text=input(\"\")\n",
    "model(text,\"jokes\")"
   ]
  }
 ],
 "metadata": {
  "kernelspec": {
   "display_name": "Python 3",
   "language": "python",
   "name": "python3"
  },
  "language_info": {
   "codemirror_mode": {
    "name": "ipython",
    "version": 3
   },
   "file_extension": ".py",
   "mimetype": "text/x-python",
   "name": "python",
   "nbconvert_exporter": "python",
   "pygments_lexer": "ipython3",
   "version": "3.6.8"
  }
 },
 "nbformat": 4,
 "nbformat_minor": 2
}
