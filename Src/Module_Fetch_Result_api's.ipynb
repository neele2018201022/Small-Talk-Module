{
 "cells": [
  {
   "cell_type": "code",
   "execution_count": 1,
   "metadata": {},
   "outputs": [],
   "source": [
    "import requests, json\n",
    "from pprint import pprint \n",
    "def NewsFromBBC(): \n",
    "    main_url = \" https://newsapi.org/v1/articles?source=bbc-news&sortBy=top&apiKey=e3fd21c34e0a4062b9480ddaa91707cb\"\n",
    "#https://newsapi.org/v2/everything?q=bitcoin&from=2019-04-09&sortBy=publishedAt&apiKey=API_KEY\n",
    "#https://newsapi.org/v2/top-headlines?country=us&category=business&apiKey=API_KEY\n",
    "#https://newsapi.org/v2/top-headlines?sources=techcrunch&apiKey=API_KEY\n",
    "#https://newsapi.org/v2/everything?domains=wsj.com&apiKey=API_KEY\n",
    "\n",
    "    open_bbc_page = requests.get(main_url).json() \n",
    "    article = open_bbc_page[\"articles\"] \n",
    "    results = [] \n",
    "          for ar in article: \n",
    "        results.append(ar[\"title\"]) \n",
    "          \n",
    "    for i in range(len(results)): \n",
    "        print(i + 1, results[i])   "
   ]
  },
  {
   "cell_type": "code",
   "execution_count": 2,
   "metadata": {},
   "outputs": [],
   "source": [
    "def joke():\n",
    "    r = requests.get('https://icanhazdadjoke.com', headers={\"Accept\":\"application/json\"})\n",
    "    raw_joke = r.json();\n",
    "    print(raw_joke['joke'])\n",
    "    "
   ]
  },
  {
   "cell_type": "code",
   "execution_count": 3,
   "metadata": {},
   "outputs": [],
   "source": [
    "\n",
    "def get_weather(city_name=None,country_code=None):\n",
    "        app_id = \"e884734dcec3248d3d1364baf22b5470\"\n",
    "        if(city_name is None):\n",
    "                city_name = \"delhi\"\n",
    "        if(country_code is None):        \n",
    "                country_code = 'IND'\n",
    "        complete_url = 'http://api.openweathermap.org/data/2.5/forecast?q=' + city_name + ',' + country_code + '&appid=' + app_id + '&mode=json&units=metric'\n",
    "        response = requests.get(complete_url)  \n",
    "        x = response.json() \n",
    "        if x[\"cod\"] != \"404\": \n",
    "            humidity = []\n",
    "            date = []\n",
    "            temp = []\n",
    "            desc = []\n",
    "            pressure = []\n",
    "            sea_level = []\n",
    "\n",
    "            data =x\n",
    "            print(\"\\t\" + \"Details about the forcast of the city \" + city_name + \" of next 5 days \" + \"\\n\\n\")\n",
    "            for lists in data['list']:\n",
    "                date.append(lists['dt_txt'])\n",
    "                temp.append(lists['main']['temp'])\n",
    "                desc.append(lists['weather'][0]['description'])\n",
    "\n",
    "            print('{:^25}{:^20}{:^20}'.format(\"Date\", \"Description\", \"Temprature\\n\"))\n",
    "            for i in range(len(date)):\n",
    "                print('{:^25}{:^20}{:^20}'.format(str(date[i]), desc[i], str(temp[i])+\" C\\N{DEGREE SIGN}\"))\n",
    "\n",
    "        else: \n",
    "            print(\" City Not Found \") "
   ]
  },
  {
   "cell_type": "code",
   "execution_count": 6,
   "metadata": {},
   "outputs": [],
   "source": [
    "def model(text,op):\n",
    "    #model=build_model()\n",
    "    #op=model.predict(text)\n",
    "    if(op==\"news\"):\n",
    "            #entity=GetEntity(text)\n",
    "            NewsFromBBC()\n",
    "    if(op==\"weather\"):\n",
    "            #entity=GetEntity(text)\n",
    "            get_weather(\"delhi\",\"IN\")\n",
    "    if(op==\"jokes\"):\n",
    "            #entity=GetEntity(text)\n",
    "            joke()"
   ]
  },
  {
   "cell_type": "code",
   "execution_count": 12,
   "metadata": {},
   "outputs": [
    {
     "name": "stdout",
     "output_type": "stream",
     "text": [
      "nn\n",
      "Did you hear about the cow who jumped over the barbed wire fence? It was udder destruction.\n"
     ]
    }
   ],
   "source": [
    "text=input(\"\")\n",
    "model(text,\"jokes\")"
   ]
  },
  {
   "cell_type": "code",
   "execution_count": null,
   "metadata": {},
   "outputs": [],
   "source": []
  }
 ],
 "metadata": {
  "kernelspec": {
   "display_name": "Python 3",
   "language": "python",
   "name": "python3"
  },
  "language_info": {
   "codemirror_mode": {
    "name": "ipython",
    "version": 3
   },
   "file_extension": ".py",
   "mimetype": "text/x-python",
   "name": "python",
   "nbconvert_exporter": "python",
   "pygments_lexer": "ipython3",
   "version": "3.6.8"
  }
 },
 "nbformat": 4,
 "nbformat_minor": 2
}
